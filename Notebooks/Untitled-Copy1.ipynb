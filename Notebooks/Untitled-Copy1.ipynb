{
 "cells": [
  {
   "cell_type": "code",
   "execution_count": 7,
   "id": "e75c90e7",
   "metadata": {},
   "outputs": [
    {
     "name": "stdout",
     "output_type": "stream",
     "text": [
      "# items: 4930\n",
      "base 2 log: 12.267371931265275\n",
      "[(1, 3175), (2, 993), (3, 425), (4, 187), (5, 79), (6, 32), (7, 22), (8, 6), (9, 5), (10, 3), (11, 1), (12, 1), (16, 1)]\n"
     ]
    },
    {
     "data": {
      "image/png": "[encoded data removed]",
      "text/plain": [
       "<Figure size 432x288 with 1 Axes>"
      ]
     },
     "metadata": {
      "needs_background": "light"
     },
     "output_type": "display_data"
    }
   ],
   "source": [
    "import parse\n",
    "import matplotlib.pyplot as plt\n",
    "import collections as collect\n",
    "import math\n",
    "# import numpy as np\n",
    "\n",
    "cmps = []\n",
    "\n",
    "with open(r\"C:\\Users\\fooba\\repos\\cpython\\PCbuild\\amd64\\orig_5000_insertions.txt\") as f:\n",
    "    start = False\n",
    "\n",
    "    for line in f:\n",
    "        if '#' in line:\n",
    "            start = True\n",
    "            continue\n",
    "        elif not start:\n",
    "            # print(line)\n",
    "            continue\n",
    "\n",
    "        # print(line)\n",
    "        line2 = \"\".join([c for c in line if c >= ' ' and c <= 'z'])\n",
    "\n",
    "        if line2:\n",
    "            cmps.append(int(parse.parse('num_cmps: {}.', line2)[0]))\n",
    "            # print(parse.parse('num_cmps: {}', line2)[0])\n",
    "\n",
    "n, bins, patches = plt.hist(x = cmps, bins='auto', color='#0504aa')\n",
    "plt.grid(axis='y')\n",
    "plt.xlabel('Value')\n",
    "plt.ylabel('Frequency')\n",
    "plt.yscale('log')\n",
    "plt.title('Histogram')\n",
    "\n",
    "print('# items: ' + str(len(cmps)))\n",
    "print('base 2 log: ' + str(math.log(len(cmps), 2)))\n",
    "print(sorted(collect.Counter(cmps).items()))"
   ]
  },
  {
   "cell_type": "code",
   "execution_count": 9,
   "id": "c5385b9c",
   "metadata": {},
   "outputs": [
    {
     "name": "stdout",
     "output_type": "stream",
     "text": [
      "# items: 4930\n",
      "base 2 log: 12.267371931265275\n",
      "[(1, 3123), (2, 709), (3, 303), (4, 198), (5, 130), (6, 74), (7, 55), (8, 50), (9, 35), (10, 26), (11, 23), (12, 23), (13, 16), (14, 9), (15, 17), (16, 11), (17, 15), (18, 9), (19, 8), (20, 7), (21, 9), (22, 2), (23, 2), (24, 2), (25, 6), (26, 3), (27, 2), (28, 3), (29, 2), (30, 2), (31, 1), (32, 6), (33, 1), (34, 1), (35, 1), (36, 3), (37, 1), (38, 2), (39, 1), (40, 4), (41, 2), (42, 1), (43, 2), (44, 3), (45, 1), (46, 1), (47, 1), (48, 1), (50, 1), (51, 2), (52, 1), (53, 2), (54, 1), (56, 1), (57, 1), (58, 2), (61, 2), (66, 1), (67, 1), (68, 1), (69, 1), (72, 2), (73, 1), (76, 1), (82, 1), (87, 1)]\n"
     ]
    },
    {
     "data": {
      "image/png": "[encoded data removed]",
      "text/plain": [
       "<Figure size 432x288 with 1 Axes>"
      ]
     },
     "metadata": {
      "needs_background": "light"
     },
     "output_type": "display_data"
    }
   ],
   "source": [
    "import parse\n",
    "import matplotlib.pyplot as plt\n",
    "import collections as collect\n",
    "import math\n",
    "# import numpy as np\n",
    "\n",
    "cmps = []\n",
    "\n",
    "with open(r\"C:\\Users\\fooba\\repos\\cpython\\PCbuild\\amd64\\linprobe_5000_insertions.txt\") as f:\n",
    "    start = False\n",
    "\n",
    "    for line in f:\n",
    "        if '#' in line:\n",
    "            start = True\n",
    "            continue\n",
    "        elif not start:\n",
    "            # print(line)\n",
    "            continue\n",
    "\n",
    "        # print(line)\n",
    "        line2 = \"\".join([c for c in line if c >= ' ' and c <= 'z'])\n",
    "\n",
    "        if line2:\n",
    "            cmps.append(int(parse.parse('num_cmps: {}.', line2)[0]))\n",
    "            # print(parse.parse('num_cmps: {}', line2)[0])\n",
    "\n",
    "n, bins, patches = plt.hist(x = cmps, bins='auto', color='#0504aa')\n",
    "plt.grid(axis='y')\n",
    "plt.xlabel('Value')\n",
    "plt.ylabel('Frequency')\n",
    "plt.yscale('log')\n",
    "plt.title('Histogram')\n",
    "\n",
    "print('# items: ' + str(len(cmps)))\n",
    "print('base 2 log: ' + str(math.log(len(cmps), 2)))\n",
    "print(sorted(collect.Counter(cmps).items()))"
   ]
  }
 ],
 "metadata": {
  "kernelspec": {
   "display_name": "Python 3 (ipykernel)",
   "language": "python",
   "name": "python3"
  },
  "language_info": {
   "codemirror_mode": {
    "name": "ipython",
    "version": 3
   },
   "file_extension": ".py",
   "mimetype": "text/x-python",
   "name": "python",
   "nbconvert_exporter": "python",
   "pygments_lexer": "ipython3",
   "version": "3.9.7"
  }
 },
 "nbformat": 4,
 "nbformat_minor": 5
}
